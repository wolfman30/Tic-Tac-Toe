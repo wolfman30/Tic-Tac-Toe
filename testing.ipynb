{
 "cells": [
  {
   "cell_type": "code",
   "execution_count": 65,
   "metadata": {},
   "outputs": [],
   "source": [
    "board_positions_list = [[1, 2, 3], [4, 5, 6], [7, 8, 9]]"
   ]
  },
  {
   "cell_type": "code",
   "execution_count": 66,
   "metadata": {},
   "outputs": [
    {
     "name": "stdout",
     "output_type": "stream",
     "text": [
      "[[1, 2, 3], [4, 5, 6], [7, 8, 9]]\n"
     ]
    }
   ],
   "source": [
    "print(board_positions_list)"
   ]
  },
  {
   "cell_type": "code",
   "execution_count": 77,
   "metadata": {},
   "outputs": [
    {
     "name": "stdout",
     "output_type": "stream",
     "text": [
      "\t\t\t\t\t\t   |   |   \n",
      "\t\t\t\t\t\t 1 | 2 | 3\n",
      "\t\t\t\t\t\t   |   |   \n",
      "\t\t\t\t\t\t ---------\n",
      "\t\t\t\t\t\t   |   |   \n",
      "\t\t\t\t\t\t 4 | 5 | 6\n",
      "\t\t\t\t\t\t   |   |   \n",
      "\t\t\t\t\t\t ---------\n",
      "\t\t\t\t\t\t   |   |   \n",
      "\t\t\t\t\t\t 7 | 8 | 9\n",
      "\t\t\t\t\t\t   |   |   \n"
     ]
    }
   ],
   "source": [
    "def display_game_board(list_of_board_positions): \n",
    "    \n",
    "    for i in list_of_board_positions:\n",
    "        print(\"\\t\" * 6, \"  |   |   \")\n",
    "        print(\"\\t\" * 6, f\"{i[0]} | {i[1]} | {i[2]}\")\n",
    "        print(\"\\t\" * 6, \"  |   |   \")\n",
    "        if i == [7, 8, 9]: break\n",
    "        print(\"\\t\" * 6, '-' * 9)\n",
    "        \n",
    "\n",
    "display_game_board(board_positions_list)\n",
    "    \n",
    "\n",
    "\n",
    "        "
   ]
  },
  {
   "cell_type": "code",
   "execution_count": 1,
   "metadata": {},
   "outputs": [],
   "source": [
    "def validate_player_letter_choice(player_letter_choice):\n",
    "    \n",
    "    while player_letter_choice not in [\"X\", \"O\"]:\n",
    "        player_letter_choice = input(\"Sorry, need an X or an O. Try again.\").upper() \n",
    "        \n",
    "\n",
    "def ask_player1_for_letter():     \n",
    "    \n",
    "    player1_letter = input(\"Player 1, Which letter do you choose: X or O? \").upper()\n",
    "    \n",
    "    return player1_letter\n",
    "\n",
    "def assign_letters_to_players()\n",
    "\n",
    "    player1_letter = ask_player1_for_letter()\n",
    "    \n",
    "    validate_player_letter_choice(player1_letter)\n",
    "\n",
    "    if player1_letter == \"X\":\n",
    "        player2_letter = \"O\"\n",
    "        print(\"Player 1 chose X, so Player 2 is an O!\")\n",
    "    else:\n",
    "        player2_letter = \"X\"\n",
    "        print(\"Player 1 chose O, therefore Player 2 is an X!\")\n",
    "        \n",
    "    return player1_letter, player2_letter"
   ]
  },
  {
   "cell_type": "code",
   "execution_count": 2,
   "metadata": {},
   "outputs": [
    {
     "name": "stdout",
     "output_type": "stream",
     "text": [
      "Player 1, Which letter do you choose: X or O? s\n",
      "Sorry, need an X or an O. Try again.shit\n",
      "Sorry, need an X or an O. Try again.nope\n",
      "Sorry, need an X or an O. Try again.wha?\n",
      "Sorry, need an X or an O. Try again.9\n",
      "Sorry, need an X or an O. Try again.no way\n",
      "Sorry, need an X or an O. Try again.o\n",
      "Player 1 chose O, therefore Player 2 is an X!\n"
     ]
    },
    {
     "data": {
      "text/plain": [
       "('S', 0)"
      ]
     },
     "execution_count": 2,
     "metadata": {},
     "output_type": "execute_result"
    }
   ],
   "source": [
    "player_letter()"
   ]
  },
  {
   "cell_type": "code",
   "execution_count": null,
   "metadata": {},
   "outputs": [],
   "source": []
  }
 ],
 "metadata": {
  "kernelspec": {
   "display_name": "Python 3",
   "language": "python",
   "name": "python3"
  },
  "language_info": {
   "codemirror_mode": {
    "name": "ipython",
    "version": 3
   },
   "file_extension": ".py",
   "mimetype": "text/x-python",
   "name": "python",
   "nbconvert_exporter": "python",
   "pygments_lexer": "ipython3",
   "version": "3.7.1"
  }
 },
 "nbformat": 4,
 "nbformat_minor": 2
}
