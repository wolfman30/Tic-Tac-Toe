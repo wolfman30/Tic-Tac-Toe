{
 "cells": [
  {
   "cell_type": "code",
   "execution_count": 27,
   "metadata": {},
   "outputs": [],
   "source": [
    "board_positions_list = [[1, 2, 3], [4, 5, 6], [7, 8, 9]]"
   ]
  },
  {
   "cell_type": "code",
   "execution_count": 28,
   "metadata": {},
   "outputs": [
    {
     "name": "stdout",
     "output_type": "stream",
     "text": [
      "\t\t\t\t\t\t   |   |   \n",
      "\t\t\t\t\t\t 1 | 2 | 3\n",
      "\t\t\t\t\t\t   |   |   \n",
      "\t\t\t\t\t\t ---------\n",
      "\t\t\t\t\t\t   |   |   \n",
      "\t\t\t\t\t\t 4 | 5 | 6\n",
      "\t\t\t\t\t\t   |   |   \n",
      "\t\t\t\t\t\t ---------\n",
      "\t\t\t\t\t\t   |   |   \n",
      "\t\t\t\t\t\t 7 | 8 | 9\n",
      "\t\t\t\t\t\t   |   |   \n"
     ]
    }
   ],
   "source": [
    "def display_game_board(list_of_board_positions): \n",
    "    \n",
    "    for i in list_of_board_positions:\n",
    "        print(\"\\t\" * 6, \"  |   |   \")\n",
    "        print(\"\\t\" * 6, f\"{i[0]} | {i[1]} | {i[2]}\")\n",
    "        print(\"\\t\" * 6, \"  |   |   \")\n",
    "        if i == [7, 8, 9]: break\n",
    "        print(\"\\t\" * 6, '-' * 9)\n",
    "        \n",
    "\n",
    "display_game_board(board_positions_list)\n",
    "    \n",
    "\n",
    "\n",
    "        "
   ]
  },
  {
   "cell_type": "code",
   "execution_count": 29,
   "metadata": {},
   "outputs": [],
   "source": [
    "def ask_player1_for_letter():     \n",
    "    \n",
    "    player1_letter = input(\"Player 1, Which letter do you choose: X or O? \").upper()\n",
    "    \n",
    "    return player1_letter"
   ]
  },
  {
   "cell_type": "code",
   "execution_count": 38,
   "metadata": {},
   "outputs": [],
   "source": [
    "def validate_player1_letter_choice(letter_choice):\n",
    "    \n",
    "    while letter_choice not in [\"X\", \"O\"]:\n",
    "        letter_choice = input(\"Sorry, need an X or an O. Try again.\").upper() \n",
    "    \n",
    "    return letter_choice"
   ]
  },
  {
   "cell_type": "code",
   "execution_count": 39,
   "metadata": {},
   "outputs": [],
   "source": [
    "def assign_letter_to_player2():\n",
    "\n",
    "    if player1_letter == \"X\": player2_letter = \"O\"\n",
    "        \n",
    "    else: player2_letter = \"X\"\n",
    "        \n",
    "    return player2_letter"
   ]
  },
  {
   "cell_type": "code",
   "execution_count": 40,
   "metadata": {},
   "outputs": [],
   "source": [
    "def display_player_letters(player1_letter):\n",
    "    \n",
    "    if player1_letter == \"X\":\n",
    "        print(\"Player 1 chose X, so Player 2 is an O!\")\n",
    "    else:\n",
    "        print(\"Player 1 chose O, therefore Player 2 is an X!\")\n",
    "        \n",
    "    "
   ]
  },
  {
   "cell_type": "code",
   "execution_count": 43,
   "metadata": {},
   "outputs": [
    {
     "name": "stdout",
     "output_type": "stream",
     "text": [
      "Player 1, Which letter do you choose: X or O? 8\n",
      "Sorry, need an X or an O. Try again.2\n",
      "Sorry, need an X or an O. Try again.something\n",
      "Sorry, need an X or an O. Try again.x\n",
      "Player 1 chose O, therefore Player 2 is an X!\n",
      "X O\n"
     ]
    }
   ],
   "source": [
    "player1_letter = ask_player1_for_letter()\n",
    "player1_letter = validate_player1_letter_choice(player1_letter)\n",
    "player2_letter = assign_letter_to_player2()\n",
    "display_player_letters(player1)\n",
    "\n",
    "print(player1_letter, player2_letter)"
   ]
  },
  {
   "cell_type": "code",
   "execution_count": 18,
   "metadata": {},
   "outputs": [
    {
     "name": "stdout",
     "output_type": "stream",
     "text": [
      "8\n"
     ]
    }
   ],
   "source": [
    "print(player1)"
   ]
  },
  {
   "cell_type": "code",
   "execution_count": null,
   "metadata": {},
   "outputs": [],
   "source": []
  }
 ],
 "metadata": {
  "kernelspec": {
   "display_name": "Python 3",
   "language": "python",
   "name": "python3"
  },
  "language_info": {
   "codemirror_mode": {
    "name": "ipython",
    "version": 3
   },
   "file_extension": ".py",
   "mimetype": "text/x-python",
   "name": "python",
   "nbconvert_exporter": "python",
   "pygments_lexer": "ipython3",
   "version": "3.7.1"
  }
 },
 "nbformat": 4,
 "nbformat_minor": 2
}
