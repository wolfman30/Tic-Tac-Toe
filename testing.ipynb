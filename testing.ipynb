{
 "cells": [
  {
   "cell_type": "code",
   "execution_count": 65,
   "metadata": {},
   "outputs": [],
   "source": [
    "board_positions_list = [[1, 2, 3], [4, 5, 6], [7, 8, 9]]"
   ]
  },
  {
   "cell_type": "code",
   "execution_count": 66,
   "metadata": {},
   "outputs": [
    {
     "name": "stdout",
     "output_type": "stream",
     "text": [
      "[[1, 2, 3], [4, 5, 6], [7, 8, 9]]\n"
     ]
    }
   ],
   "source": [
    "print(board_positions_list)"
   ]
  },
  {
   "cell_type": "code",
   "execution_count": 77,
   "metadata": {},
   "outputs": [
    {
     "name": "stdout",
     "output_type": "stream",
     "text": [
      "\t\t\t\t\t\t   |   |   \n",
      "\t\t\t\t\t\t 1 | 2 | 3\n",
      "\t\t\t\t\t\t   |   |   \n",
      "\t\t\t\t\t\t ---------\n",
      "\t\t\t\t\t\t   |   |   \n",
      "\t\t\t\t\t\t 4 | 5 | 6\n",
      "\t\t\t\t\t\t   |   |   \n",
      "\t\t\t\t\t\t ---------\n",
      "\t\t\t\t\t\t   |   |   \n",
      "\t\t\t\t\t\t 7 | 8 | 9\n",
      "\t\t\t\t\t\t   |   |   \n"
     ]
    }
   ],
   "source": [
    "def display_game_board(list_of_board_positions): \n",
    "    \n",
    "    for i in list_of_board_positions:\n",
    "        print(\"\\t\" * 6, \"  |   |   \")\n",
    "        print(\"\\t\" * 6, f\"{i[0]} | {i[1]} | {i[2]}\")\n",
    "        print(\"\\t\" * 6, \"  |   |   \")\n",
    "        if i == [7, 8, 9]: break\n",
    "        print(\"\\t\" * 6, '-' * 9)\n",
    "        \n",
    "\n",
    "display_game_board(board_positions_list)\n",
    "    \n",
    "\n",
    "\n",
    "        "
   ]
  },
  {
   "cell_type": "code",
   "execution_count": null,
   "metadata": {},
   "outputs": [],
   "source": []
  }
 ],
 "metadata": {
  "kernelspec": {
   "display_name": "Python 3",
   "language": "python",
   "name": "python3"
  },
  "language_info": {
   "codemirror_mode": {
    "name": "ipython",
    "version": 3
   },
   "file_extension": ".py",
   "mimetype": "text/x-python",
   "name": "python",
   "nbconvert_exporter": "python",
   "pygments_lexer": "ipython3",
   "version": "3.7.1"
  }
 },
 "nbformat": 4,
 "nbformat_minor": 2
}
